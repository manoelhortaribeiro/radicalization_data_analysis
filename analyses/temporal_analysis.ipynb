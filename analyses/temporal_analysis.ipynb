{
 "cells": [
  {
   "cell_type": "markdown",
   "metadata": {},
   "source": [
    "# Temporal Exploratory Analysis"
   ]
  },
  {
   "cell_type": "code",
   "execution_count": null,
   "metadata": {
    "pycharm": {
     "is_executing": false
    }
   },
   "outputs": [],
   "source": [
    "import matplotlib.font_manager as font_manager\n",
    "import matplotlib.dates as matdates\n",
    "import matplotlib.ticker as ticker\n",
    "import matplotlib.pyplot as plt\n",
    "from os.path import expanduser\n",
    "import matplotlib as mpl\n",
    "import seaborn as sns\n",
    "\n",
    "sns.set_style(\"ticks\")\n",
    "fontpath = expanduser('~/.local/share/fonts/LinLibertine_DRah.ttf')\n",
    "prop = font_manager.FontProperties(fname=fontpath)\n",
    "\n",
    "params = {\n",
    "    'axes.labelsize': 9,\n",
    "    'font.size': 9,\n",
    "    'legend.fontsize': 12,\n",
    "    'xtick.labelsize': 12,\n",
    "    'ytick.labelsize': 12,\n",
    "    'font.family': prop.get_name(),\n",
    "    'text.usetex': True\n",
    "}\n",
    "mpl.rcParams.update(params)\n"
   ]
  },
  {
   "cell_type": "code",
   "execution_count": 2,
   "metadata": {},
   "outputs": [],
   "source": [
    "from helpers import jaccard, populate_bin_with_channel, add_user_to_bin, bins_y_o, bins_t_o, bin_to_df\n",
    "from helpers import triple_bin_to_df, intersec_3, colors, _jaccard, bins_y_s, bins_t_s\n",
    "from matplotlib.patches import Polygon\n",
    "from sqlitedict import SqliteDict\n",
    "import numpy as np\n",
    "import pandas as pd"
   ]
  },
  {
   "cell_type": "markdown",
   "metadata": {},
   "source": [
    "## Common Comenting Users Along the Years"
   ]
  },
  {
   "cell_type": "code",
   "execution_count": 3,
   "metadata": {},
   "outputs": [],
   "source": [
    "# Calculates values to plot in the logarithmic scale maintaining meaninful proportion (for years).\n",
    "def log_scale(df, shenanigans=True):\n",
    "    df[\"idx_str\"] = bins_t_o\n",
    "    df_years = df.tail(12)\n",
    "    if shenanigans:\n",
    "        df_years[\"x+y\"] = df_years[\"x\"] + df_years[\"y\"] - df_years[\"intersection\"] \n",
    "        df_years[\"lg x+y\"] = df_years[\"x+y\"].apply(lambda x: np.log10(x))\n",
    "        df_years[\"x-y'\"] = df_years[\"x-y\"] / df_years[\"x+y\"] * df_years[\"lg x+y\"] \n",
    "        df_years[\"y-x'\"] = df_years[\"y-x\"] / df_years[\"x+y\"] * df_years[\"lg x+y\"] \n",
    "        df_years[\"intersection'\"] = df_years[\"intersection\"] / df_years[\"x+y\"] * df_years[\"lg x+y\"]\n",
    "    return df_years"
   ]
  },
  {
   "cell_type": "code",
   "execution_count": 4,
   "metadata": {},
   "outputs": [],
   "source": [
    "# Read channels\n",
    "df_sources = pd.read_csv(\"../data/sources_final.csv\")\n",
    "channel_dict = SqliteDict(\"../data/channel_dict.sqlite\", tablename=\"channels\")"
   ]
  },
  {
   "cell_type": "code",
   "execution_count": 5,
   "metadata": {},
   "outputs": [],
   "source": [
    "# Create bins and populate them with channels\n",
    "bins_ar, bins_al, bins_idw = {b:set() for b in bins_y_o}, {b:set() for b in bins_y_o}, {b:set() for b in bins_y_o}\n",
    "for bin_dict, cat in zip([bins_ar, bins_al, bins_idw], [\"Alt-right\", \"Alt-lite\", \"Intellectual Dark Web\"]):\n",
    "    for channel in df_sources.loc[df_sources[\"Category\"] == cat, \"Id\"]:\n",
    "        populate_bin_with_channel(channel, channel_dict, bin_dict)"
   ]
  },
  {
   "cell_type": "code",
   "execution_count": 6,
   "metadata": {},
   "outputs": [],
   "source": [
    "# Create bins intersection given the specified function, here, `jaccard`\n",
    "df_ar_al = bin_to_df(bins_y_o, bins_ar, bins_al, jaccard)\n",
    "df_ar_idw = bin_to_df(bins_y_o, bins_ar, bins_idw, jaccard)"
   ]
  },
  {
   "cell_type": "code",
   "execution_count": 7,
   "metadata": {},
   "outputs": [],
   "source": [
    "# Create intersection between all groups \n",
    "df_ar_al_id = triple_bin_to_df(bins_y_o, bins_ar, bins_al, bins_idw, intersec_3)"
   ]
  },
  {
   "cell_type": "code",
   "execution_count": 8,
   "metadata": {},
   "outputs": [
    {
     "name": "stderr",
     "output_type": "stream",
     "text": [
      "/home/manoelribeiro/anaconda3/envs/community_fingerprinting/lib/python3.7/site-packages/ipykernel_launcher.py:6: SettingWithCopyWarning: \n",
      "A value is trying to be set on a copy of a slice from a DataFrame.\n",
      "Try using .loc[row_indexer,col_indexer] = value instead\n",
      "\n",
      "See the caveats in the documentation: http://pandas.pydata.org/pandas-docs/stable/indexing.html#indexing-view-versus-copy\n",
      "  \n",
      "/home/manoelribeiro/anaconda3/envs/community_fingerprinting/lib/python3.7/site-packages/ipykernel_launcher.py:7: SettingWithCopyWarning: \n",
      "A value is trying to be set on a copy of a slice from a DataFrame.\n",
      "Try using .loc[row_indexer,col_indexer] = value instead\n",
      "\n",
      "See the caveats in the documentation: http://pandas.pydata.org/pandas-docs/stable/indexing.html#indexing-view-versus-copy\n",
      "  import sys\n",
      "/home/manoelribeiro/anaconda3/envs/community_fingerprinting/lib/python3.7/site-packages/ipykernel_launcher.py:8: SettingWithCopyWarning: \n",
      "A value is trying to be set on a copy of a slice from a DataFrame.\n",
      "Try using .loc[row_indexer,col_indexer] = value instead\n",
      "\n",
      "See the caveats in the documentation: http://pandas.pydata.org/pandas-docs/stable/indexing.html#indexing-view-versus-copy\n",
      "  \n",
      "/home/manoelribeiro/anaconda3/envs/community_fingerprinting/lib/python3.7/site-packages/ipykernel_launcher.py:9: SettingWithCopyWarning: \n",
      "A value is trying to be set on a copy of a slice from a DataFrame.\n",
      "Try using .loc[row_indexer,col_indexer] = value instead\n",
      "\n",
      "See the caveats in the documentation: http://pandas.pydata.org/pandas-docs/stable/indexing.html#indexing-view-versus-copy\n",
      "  if __name__ == '__main__':\n",
      "/home/manoelribeiro/anaconda3/envs/community_fingerprinting/lib/python3.7/site-packages/ipykernel_launcher.py:10: SettingWithCopyWarning: \n",
      "A value is trying to be set on a copy of a slice from a DataFrame.\n",
      "Try using .loc[row_indexer,col_indexer] = value instead\n",
      "\n",
      "See the caveats in the documentation: http://pandas.pydata.org/pandas-docs/stable/indexing.html#indexing-view-versus-copy\n",
      "  # Remove the CWD from sys.path while we load stuff.\n"
     ]
    }
   ],
   "source": [
    "# Calls auxiliary function to prepare data to be plotted\n",
    "df_ar_al_years = log_scale(df_ar_al)\n",
    "df_ar_idw_years = log_scale(df_ar_idw)\n",
    "df_itc_years = log_scale(df_ar_al_id, shenanigans=False)"
   ]
  },
  {
   "cell_type": "code",
   "execution_count": 9,
   "metadata": {},
   "outputs": [
    {
     "data": {
      "image/png": "[encoded data removed]",
      "text/plain": [
       "<Figure size 594x684 with 5 Axes>"
      ]
     },
     "metadata": {
      "needs_background": "light"
     },
     "output_type": "display_data"
    }
   ],
   "source": [
    "%matplotlib inline\n",
    "fig = plt.figure(constrained_layout=False, figsize=(8.25,9.5))\n",
    "gs = fig.add_gridspec(nrows=13, ncols=1, wspace=0.0, hspace=0, top=0.90)\n",
    "\n",
    "ind = np.arange(12) \n",
    "\n",
    "# adds subplots\n",
    "ax1 = fig.add_subplot(gs[1:4, 0])\n",
    "ax3 = fig.add_subplot(gs[4,0])\n",
    "ax2 = fig.add_subplot(gs[6:9,0])\n",
    "ax4 = fig.add_subplot(gs[9,0])\n",
    "ax5 = fig.add_subplot(gs[11:12,0])\n",
    "\n",
    "\n",
    "# set ticks and grids\n",
    "ax1.set_yticks([2, 3, 4, 5, 6, 7])\n",
    "ax1.set_yticklabels([\"100\", \"1k\", \"10k\", \"100k\", \"1M\"])\n",
    "ax2.set_yticks([2, 3, 4, 5, 6, 7])\n",
    "ax2.set_yticklabels([\"100\", \"1k\", \"10k\", \"100k\", \"1M\"])\n",
    "ax1.set_ylim([0,6.6])\n",
    "ax2.set_ylim([0,6.6])\n",
    "ax3.set_yticks([0.05, 0.10, 0.15])\n",
    "ax3.set_yticklabels([\"5%\", \"10%\",  \"15%\"])\n",
    "ax3.set_xticklabels(df_ar_al_years[\"idx_str\"],  rotation=0)\n",
    "\n",
    "ax3.set_xticks(ind)\n",
    "ax4.set_yticks([0.05, 0.10, 0.15])\n",
    "ax4.set_yticklabels([\"5%\", \"10%\",  \"15%\"])\n",
    "ax4.set_xticklabels(df_ar_al_years[\"idx_str\"],  rotation=0)\n",
    "ax4.set_xticks(ind)\n",
    "ax5.set_xticks(ind)\n",
    "ax5.set_xticklabels(df_ar_al_years[\"idx_str\"],  rotation=0)\n",
    "ax5.set_yticks([0.02, 0.06, 0.10])\n",
    "ax5.set_yticklabels([\"2%\", \"6%\",  \"10%\"])\n",
    "\n",
    "# set titles\n",
    "ax1.set_title(\"Alt-Right \\ \\ \\ \\ \\ \\ Alt-lite \\ \\ \\ \\ \\ \\ and Intersection\")\n",
    "ax1.set_ylabel(\"Unique Users\")\n",
    "ax2.set_ylabel(\"Unique Users\")\n",
    "ax2.set_title(\"Alt-Right \\ \\ \\ \\ \\ \\ I.D.W. \\ \\ \\ \\ \\ \\ and Intersection\")\n",
    "ax5.set_title(\"Total Intersection\")\n",
    "# set lims and axis\n",
    "ax1.set_xlim([-0.5, 11.5])\n",
    "ax1.set_axisbelow(True)\n",
    "ax1.yaxis.grid(color='gray', linestyle='dashed')\n",
    "ax2.set_xlim([-0.5, 11.5])\n",
    "ax2.set_axisbelow(True)\n",
    "ax2.yaxis.grid(color='gray', linestyle='dashed')\n",
    "ax3.set_ylim([0, 0.175])\n",
    "ax3.set_xlim([-0.5, 11.5])\n",
    "ax3.set_ylabel(\"  Jaccard\")\n",
    "ax5.set_ylabel(\"  Jaccard\")\n",
    "ax3.set_axisbelow(True)\n",
    "ax3.yaxis.grid(color='gray', linestyle='dashed')\n",
    "ax4.set_ylim([0, 0.175])\n",
    "ax4.set_xlim([-0.5, 11.5])\n",
    "ax4.set_axisbelow(True)\n",
    "ax4.yaxis.grid(color='gray', linestyle='dashed')\n",
    "ax5.yaxis.grid(color='gray', linestyle='dashed')\n",
    "ax5.set_ylabel(\"Inters.\")\n",
    "ax5.set_xlim([-0.5, 11.5])\n",
    "ax5.set_ylim([0, 0.115])\n",
    "\n",
    "# -- yearly plot\n",
    "\n",
    "# AR/AL\n",
    "ax1.bar(ind, df_ar_al_years[\"x-y'\"].values, 0.6, \n",
    "        hatch=\"///\", edgecolor=colors[\"Alt-right\"], color=(1, 1, 1))\n",
    "ax1.bar(ind, df_ar_al_years[\"x-y'\"].values, 0.6, \n",
    "        hatch=\"\", edgecolor=\"black\", color=(1, 1, 1), facecolor=(0,0,0,0))\n",
    "ax1.bar(ind, df_ar_al_years[\"intersection'\"].values, 0.6, \n",
    "        bottom=df_ar_al_years[\"x-y'\"].values, \n",
    "        hatch=\"///\", edgecolor=colors[\"Alt-right\"], facecolor=(0,0,0,0))\n",
    "ax1.bar(ind, df_ar_al_years[\"intersection'\"].values, 0.6, \n",
    "        bottom=df_ar_al_years[\"x-y'\"].values, \n",
    "        hatch=\"\\\\\\\\\\\\\", edgecolor=colors[\"Alt-lite\"], facecolor=(0,0,0,0))\n",
    "ax1.bar(ind, df_ar_al_years[\"intersection'\"].values, 0.6, \n",
    "        bottom=df_ar_al_years[\"x-y'\"].values, \n",
    "        hatch=\"\", edgecolor=\"black\", facecolor=(0,0,0,0))\n",
    "ax1.bar(ind, df_ar_al_years[\"y-x'\"].values, 0.6, \n",
    "        bottom=df_ar_al_years[\"x-y'\"].values + df_ar_al_years[\"intersection'\"].values, \n",
    "        hatch=\"\\\\\\\\\\\\\", edgecolor=colors[\"Alt-lite\"], color=(1, 1, 1))\n",
    "ax1.bar(ind, df_ar_al_years[\"y-x'\"].values, 0.6, \n",
    "        bottom=df_ar_al_years[\"x-y'\"].values + df_ar_al_years[\"intersection'\"].values, \n",
    "        hatch=\"\", edgecolor=\"black\", facecolor=(0,0,0,0))\n",
    "\n",
    "# AR/IDW\n",
    "ax2.bar(ind, df_ar_idw_years[\"x-y'\"].values, 0.6, \n",
    "        hatch=\"///\", edgecolor=colors[\"Alt-right\"], color=(1, 1, 1))\n",
    "ax2.bar(ind, df_ar_idw_years[\"x-y'\"].values, 0.6, \n",
    "        hatch=\"\", edgecolor=\"black\", color=(1, 1, 1), facecolor=(0,0,0,0))\n",
    "ax2.bar(ind, df_ar_idw_years[\"intersection'\"].values, 0.6, \n",
    "        bottom=df_ar_idw_years[\"x-y'\"].values, \n",
    "        hatch=\"///\", edgecolor=colors[\"Alt-right\"], facecolor=(0,0,0,0))\n",
    "ax2.bar(ind, df_ar_idw_years[\"intersection'\"].values, 0.6, \n",
    "        bottom=df_ar_idw_years[\"x-y'\"].values, \n",
    "        hatch=\"|||\", edgecolor=colors[\"Intellectual Dark Web\"], facecolor=(0,0,0,0))\n",
    "ax2.bar(ind, df_ar_idw_years[\"intersection'\"].values, 0.6, \n",
    "        bottom=df_ar_idw_years[\"x-y'\"].values, \n",
    "        hatch=\"\", edgecolor=\"black\", facecolor=(0,0,0,0))\n",
    "ax2.bar(ind, df_ar_idw_years[\"y-x'\"].values, 0.6, \n",
    "        bottom=df_ar_idw_years[\"x-y'\"].values + df_ar_idw_years[\"intersection'\"].values, \n",
    "        hatch=\"|||\", edgecolor=colors[\"Intellectual Dark Web\"], color=(1, 1, 1))\n",
    "ax2.bar(ind, df_ar_idw_years[\"y-x'\"].values, 0.6, \n",
    "        bottom=df_ar_idw_years[\"x-y'\"].values + df_ar_idw_years[\"intersection'\"].values, \n",
    "        hatch=\"\", edgecolor=\"black\", facecolor=(0,0,0,0))\n",
    "\n",
    "# --- jaccard\n",
    "\n",
    "# AR/AL\n",
    "ax3.bar(ind, df_ar_al_years[\"jaccard\"], 0.6, \n",
    "        hatch=\"///\", edgecolor=colors[\"Alt-right\"], facecolor=(0,0,0,0))\n",
    "ax3.bar(ind, df_ar_al_years[\"jaccard\"], 0.6, \n",
    "        hatch=\"\\\\\\\\\\\\\", edgecolor=colors[\"Alt-right\"],  facecolor=(0,0,0,0))\n",
    "ax3.bar(ind, df_ar_al_years[\"jaccard\"], 0.6, \n",
    "        hatch=\"\", edgecolor=\"black\",  facecolor=(0,0,0,0))\n",
    "\n",
    "# AR/IDW\n",
    "ax4.bar(ind, df_ar_idw_years[\"jaccard\"], 0.6, \n",
    "        hatch=\"///\", edgecolor=colors[\"Alt-right\"], facecolor=(0,0,0,0))\n",
    "ax4.bar(ind, df_ar_idw_years[\"jaccard\"], 0.6, \n",
    "        hatch=\"|||\", edgecolor=colors[\"Intellectual Dark Web\"], facecolor=(0,0,0,0))\n",
    "\n",
    "ax4.bar(ind, df_ar_idw_years[\"jaccard\"], 0.6, \n",
    "        hatch=\"\", edgecolor=\"black\",facecolor=(0,0,0,0))\n",
    "\n",
    "# intersec\n",
    "ax5.bar(ind, df_itc_years[\"xyz_p\"], 0.4, \n",
    "        hatch=\"\", edgecolor=\"black\", color=\"grey\")\n",
    "\n",
    "\n",
    "\n",
    "# plots text on top\n",
    "# ax1.text(0.7, 9.8, \"Alt-right\", horizontalalignment=\"left\",  verticalalignment=\"top\", fontsize=15)\n",
    "ax1.add_patch(Polygon([[3.95, 6.75], [3.95, 7.5], [4.45, 7.5], [4.45, 6.75]], closed=True, fill=False, \n",
    "                      hatch='///', edgecolor=colors[\"Alt-right\"], clip_on=False))\n",
    "ax1.add_patch(Polygon([[5.65, 6.75], [5.65, 7.5], [6.15, 7.5], [6.15, 6.75]], closed=True, fill=False, \n",
    "                      hatch='\\\\\\\\\\\\', edgecolor=colors[\"Alt-lite\"], clip_on=False))\n",
    "ax1.add_patch(Polygon([[8.5, 6.75], [8.5, 7.5], [9, 7.5], [9, 6.75]], closed=True, fill=False, \n",
    "                      hatch='\\\\\\\\\\\\', edgecolor=colors[\"Alt-lite\"], clip_on=False))\n",
    "ax1.add_patch(Polygon([[8.5, 6.75], [8.5, 7.5], [9, 7.5], [9, 6.75]], closed=True, fill=False, \n",
    "                      hatch='///', edgecolor=colors[\"Alt-right\"], clip_on=False))\n",
    "ax2.add_patch(Polygon([[3.95, 6.75], [3.95, 7.5], [4.45, 7.5], [4.45, 6.75]], closed=True, fill=False, \n",
    "                      hatch='///', edgecolor=colors[\"Alt-right\"], clip_on=False))\n",
    "ax2.add_patch(Polygon([[5.6, 6.75], [5.6, 7.5], [6.1, 7.5], [6.1, 6.75]], closed=True, fill=False, \n",
    "                      hatch=\"|||\", edgecolor=colors[\"Intellectual Dark Web\"], clip_on=False))\n",
    "ax2.add_patch(Polygon([[8.5, 6.75], [8.5, 7.5], [9, 7.5], [9, 6.75]], closed=True, fill=False, \n",
    "                      hatch=\"|||\", edgecolor=colors[\"Intellectual Dark Web\"], clip_on=False))\n",
    "ax2.add_patch(Polygon([[8.5, 6.75], [8.5, 7.5], [9, 7.5], [9, 6.75]], closed=True, fill=False, \n",
    "                      hatch='///', edgecolor=colors[\"Alt-right\"], clip_on=False))\n",
    "\n",
    "fig.savefig(\"../imgs/unique_users.pdf\", bbox_inches='tight')\n",
    "fig.savefig(\"../imgs/unique_users.png\", bbox_inches='tight')"
   ]
  }
 ],
 "metadata": {
  "kernelspec": {
   "display_name": "community fingerprinting",
   "language": "python",
   "name": "community_fingerprinting"
  },
  "language_info": {
   "codemirror_mode": {
    "name": "ipython",
    "version": 3
   },
   "file_extension": ".py",
   "mimetype": "text/x-python",
   "name": "python",
   "nbconvert_exporter": "python",
   "pygments_lexer": "ipython3",
   "version": "3.7.1"
  },
  "latex_envs": {
   "LaTeX_envs_menu_present": true,
   "autoclose": true,
   "autocomplete": true,
   "bibliofile": "biblio.bib",
   "cite_by": "apalike",
   "current_citInitial": 1,
   "eqLabelWithNumbers": true,
   "eqNumInitial": 1,
   "hotkeys": {
    "equation": "Ctrl-E",
    "itemize": "Ctrl-I"
   },
   "labels_anchors": false,
   "latex_user_defs": false,
   "report_style_numbering": false,
   "user_envs_cfg": false
  }
 },
 "nbformat": 4,
 "nbformat_minor": 2
}
